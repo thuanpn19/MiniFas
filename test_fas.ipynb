{
 "cells": [
  {
   "cell_type": "code",
   "execution_count": 2,
   "metadata": {},
   "outputs": [],
   "source": [
    "import os\n",
    "import cv2\n",
    "import cv2 as cv\n",
    "import numpy as np\n",
    "import argparse\n",
    "import warnings\n",
    "import time\n",
    "from tqdm import tqdm\n",
    "\n",
    "from src.anti_spoof_predict import AntiSpoofPredict\n",
    "from src.generate_patches import CropImage\n",
    "from src.utility import parse_model_name\n",
    "warnings.filterwarnings('ignore')"
   ]
  },
  {
   "cell_type": "code",
   "execution_count": 10,
   "metadata": {},
   "outputs": [],
   "source": [
    "model_test = AntiSpoofPredict(0)\n",
    "pretr = 'resources/anti_spoof_models/4_0_0_80x80_MiniFASNetV1SE.pth'"
   ]
  },
  {
   "cell_type": "code",
   "execution_count": 6,
   "metadata": {},
   "outputs": [],
   "source": [
    "sample = \"../fas_face_dataset/fake/1.jpg\""
   ]
  },
  {
   "cell_type": "code",
   "execution_count": 11,
   "metadata": {},
   "outputs": [],
   "source": [
    "dataset =\"../fas_face_dataset/\""
   ]
  },
  {
   "cell_type": "code",
   "execution_count": 26,
   "metadata": {},
   "outputs": [],
   "source": [
    "def pre_process(img_path):\n",
    "    img = cv2.imread(path_img)\n",
    "    img = cv2.cvtColor(img, cv2.COLOR_BGR2RGB)\n",
    "    img = cv2.resize(img, (80,80))\n",
    "    return img"
   ]
  },
  {
   "cell_type": "code",
   "execution_count": 49,
   "metadata": {},
   "outputs": [],
   "source": [
    "def predict_fas(img):\n",
    "    prediction = model_test.predict(img, model)\n",
    "    label = np.argmax(prediction)\n",
    "    confident_score = prediction[0][label]\n",
    "    if label == 1:\n",
    "        # REAL \n",
    "        return \"real\"\n",
    "    else:\n",
    "        # 2D / 3D fake\n",
    "        return \"fake\""
   ]
  },
  {
   "cell_type": "code",
   "execution_count": 12,
   "metadata": {},
   "outputs": [],
   "source": [
    "from tqdm import tqdm"
   ]
  },
  {
   "cell_type": "code",
   "execution_count": 53,
   "metadata": {},
   "outputs": [
    {
     "name": "stdout",
     "output_type": "stream",
     "text": [
      "fake\n"
     ]
    },
    {
     "name": "stderr",
     "output_type": "stream",
     "text": [
      "100%|██████████| 571/571 [00:58<00:00,  9.71it/s]\n"
     ]
    },
    {
     "name": "stdout",
     "output_type": "stream",
     "text": [
      "real\n"
     ]
    },
    {
     "name": "stderr",
     "output_type": "stream",
     "text": [
      "100%|██████████| 400/400 [00:41<00:00,  9.56it/s]"
     ]
    },
    {
     "name": "stdout",
     "output_type": "stream",
     "text": [
      "tp: 571\n",
      "fp: 400\n",
      "fn: 0\n",
      "tn: 0\n"
     ]
    },
    {
     "name": "stderr",
     "output_type": "stream",
     "text": [
      "\n"
     ]
    }
   ],
   "source": [
    "tp = 0\n",
    "tn = 0\n",
    "fn = 0\n",
    "fp = 0\n",
    "\n",
    "# dir = fake / real \n",
    "\n",
    "labels = os.listdir(dataset)\n",
    "for label in labels:\n",
    "    print(label)\n",
    "    label_dir = os.path.join(dataset, label)\n",
    "    images = os.listdir(label_dir)\n",
    "    for image in tqdm(images):\n",
    "        img_path = os.path.join(label_dir, image)\n",
    "        img = pre_process(img_path)\n",
    "        tic = time.time()\n",
    "        prediction = predict_fas(img)\n",
    "        # print(time.time() - tic)\n",
    "        \n",
    "        if prediction == \"fake\" and label == 'fake':\n",
    "            tp += 1\n",
    "        elif prediction == 'real' and label == 'fake':\n",
    "            fn += 1\n",
    "        elif prediction == 'fake' and label == 'real':\n",
    "            fp += 1\n",
    "        elif prediction == 'real' and label == 'real':\n",
    "            tn += 1\n",
    "            \n",
    "print(\"tp:\", tp)\n",
    "print(\"fp:\", fp)\n",
    "print(\"fn:\", fn)\n",
    "print(\"tn:\", tn)"
   ]
  },
  {
   "cell_type": "code",
   "execution_count": 6,
   "metadata": {},
   "outputs": [],
   "source": [
    "model_1 = 'resources/anti_spoof_models/2.7_80x80_MiniFASNetV2.pth'\n",
    "model_2 = 'resources/anti_spoof_models/4_0_0_80x80_MiniFASNetV1SE.pth'\n",
    "model = model_1\n"
   ]
  },
  {
   "cell_type": "code",
   "execution_count": 5,
   "metadata": {},
   "outputs": [],
   "source": [
    "model_name = model.split('/')[-1]\n",
    "\n",
    "h_input, w_input, model_type, scale = parse_model_name(model_name)\n"
   ]
  },
  {
   "cell_type": "code",
   "execution_count": 9,
   "metadata": {},
   "outputs": [
    {
     "data": {
      "text/plain": [
       "2.7"
      ]
     },
     "execution_count": 9,
     "metadata": {},
     "output_type": "execute_result"
    }
   ],
   "source": [
    "scale"
   ]
  },
  {
   "cell_type": "code",
   "execution_count": 7,
   "metadata": {},
   "outputs": [],
   "source": [
    "def predict_fas_face(img_path):\n",
    "    img = cv2.imread(img_path)\n",
    "    img = cv2.cvtColor(img, cv2.COLOR_BGR2RGB)\n",
    "    image_bbox = model_test.get_bbox(img)\n",
    "    \n",
    "    model_name = model.split('/')[-1]\n",
    "    h_input, w_input, model_type, scale = parse_model_name(model_name)\n",
    "    param = {\n",
    "        \"org_img\": img,\n",
    "        \"bbox\": image_bbox,\n",
    "        \"scale\": scale,\n",
    "        \"out_w\": w_input,\n",
    "        \"out_h\": h_input,\n",
    "        \"crop\": True,\n",
    "    }\n",
    "    if scale is None:\n",
    "        param[\"crop\"] = False\n",
    "    img = CropImage().crop(**param)\n",
    "    \n",
    "    prediction = model_test.predict(img, model)\n",
    "    label = np.argmax(prediction)\n",
    "    confident_score = prediction[0][label]\n",
    "    if label == 1:\n",
    "        # REAL \n",
    "        return \"real\"\n",
    "    else:\n",
    "        # 2D / 3D fake\n",
    "        return \"fake\""
   ]
  },
  {
   "cell_type": "code",
   "execution_count": 17,
   "metadata": {},
   "outputs": [],
   "source": [
    "model = model_1"
   ]
  },
  {
   "cell_type": "code",
   "execution_count": 18,
   "metadata": {},
   "outputs": [
    {
     "name": "stdout",
     "output_type": "stream",
     "text": [
      "fake\n"
     ]
    },
    {
     "name": "stderr",
     "output_type": "stream",
     "text": [
      "100%|██████████| 600/600 [02:27<00:00,  4.07it/s]\n"
     ]
    },
    {
     "name": "stdout",
     "output_type": "stream",
     "text": [
      "real\n"
     ]
    },
    {
     "name": "stderr",
     "output_type": "stream",
     "text": [
      "100%|██████████| 438/438 [00:43<00:00, 10.01it/s]"
     ]
    },
    {
     "name": "stdout",
     "output_type": "stream",
     "text": [
      "tp: 439\n",
      "fp: 4\n",
      "fn: 161\n",
      "tn: 434\n"
     ]
    },
    {
     "name": "stderr",
     "output_type": "stream",
     "text": [
      "\n"
     ]
    }
   ],
   "source": [
    "tp = 0\n",
    "tn = 0\n",
    "fn = 0\n",
    "fp = 0\n",
    "\n",
    "# dir = fake / real \n",
    "\n",
    "labels = os.listdir(dataset)\n",
    "for label in labels:\n",
    "    print(label)\n",
    "    label_dir = os.path.join(dataset, label)\n",
    "    images = os.listdir(label_dir)\n",
    "    for image in tqdm(images):\n",
    "        img_path = os.path.join(label_dir, image)\n",
    "        tic = time.time()\n",
    "        try:\n",
    "            prediction = predict_fas_face(img_path)\n",
    "        except:\n",
    "            continue\n",
    "        # print(time.time() - tic)\n",
    "        \n",
    "        if prediction == \"fake\" and label == 'fake':\n",
    "            tp += 1\n",
    "        elif prediction == 'real' and label == 'fake':\n",
    "            fn += 1\n",
    "        elif prediction == 'fake' and label == 'real':\n",
    "            fp += 1\n",
    "        elif prediction == 'real' and label == 'real':\n",
    "            tn += 1\n",
    "            \n",
    "print(\"tp:\", tp)\n",
    "print(\"fp:\", fp)\n",
    "print(\"fn:\", fn)\n",
    "print(\"tn:\", tn)"
   ]
  },
  {
   "cell_type": "code",
   "execution_count": 13,
   "metadata": {},
   "outputs": [
    {
     "name": "stdout",
     "output_type": "stream",
     "text": [
      "tp: 439\n",
      "fp: 4\n",
      "fn: 161\n",
      "tn: 434\n"
     ]
    }
   ],
   "source": [
    "print(\"tp:\", tp)\n",
    "print(\"fp:\", fp)\n",
    "print(\"fn:\", fn)\n",
    "print(\"tn:\", tn)"
   ]
  },
  {
   "cell_type": "code",
   "execution_count": null,
   "metadata": {},
   "outputs": [],
   "source": [
    "fake\n",
    "100%|██████████| 571/571 [00:58<00:00,  9.70it/s]\n",
    "real\n",
    "100%|██████████| 400/400 [00:50<00:00,  7.92it/s]\n",
    "tp: 333\n",
    "fp: 187\n",
    "fn: 238\n",
    "tn: 213"
   ]
  },
  {
   "cell_type": "code",
   "execution_count": null,
   "metadata": {},
   "outputs": [],
   "source": [
    "fake\n",
    "100%|██████████| 571/571 [01:03<00:00,  8.97it/s]\n",
    "real\n",
    "100%|██████████| 400/400 [00:48<00:00,  8.25it/s]\n",
    "tp: 429\n",
    "fp: 289\n",
    "fn: 142\n",
    "tn: 111"
   ]
  },
  {
   "cell_type": "code",
   "execution_count": 2,
   "metadata": {},
   "outputs": [],
   "source": [
    "def predict_two_model(img_path):\n",
    "    model_test = AntiSpoofPredict(0)\n",
    "    image_cropper = CropImage()\n",
    "    image = cv2.imread(img_path)\n",
    "\n",
    "    image_bbox = model_test.get_bbox(image)\n",
    "    prediction = np.zeros((1, 3))\n",
    "    # test_speed = 0\n",
    "    # sum the prediction from single model's result\n",
    "    for model in [model_1, model_2]:\n",
    "        model_name = model.split(\"/\")[-1]\n",
    "        h_input, w_input, model_type, scale = parse_model_name(model_name)\n",
    "        param = {\n",
    "            \"org_img\": image,\n",
    "            \"bbox\": image_bbox,\n",
    "            \"scale\": scale,\n",
    "            \"out_w\": w_input,\n",
    "            \"out_h\": h_input,\n",
    "            \"crop\": True,\n",
    "        }\n",
    "        if scale is None:\n",
    "            param[\"crop\"] = False\n",
    "        img = image_cropper.crop(**param)\n",
    "\n",
    "        \n",
    "        prediction += model_test.predict(img, model)\n",
    "        \n",
    "    label = np.argmax(prediction)\n",
    "    value = prediction[0][label]/2\n",
    "    return \"real\" if label == 1 else \"fake\"\n"
   ]
  },
  {
   "cell_type": "code",
   "execution_count": 8,
   "metadata": {},
   "outputs": [
    {
     "name": "stdout",
     "output_type": "stream",
     "text": [
      "fake\n"
     ]
    },
    {
     "name": "stderr",
     "output_type": "stream",
     "text": [
      "  0%|          | 0/571 [00:00<?, ?it/s]"
     ]
    },
    {
     "name": "stderr",
     "output_type": "stream",
     "text": [
      "100%|██████████| 571/571 [01:48<00:00,  5.26it/s]\n"
     ]
    },
    {
     "name": "stdout",
     "output_type": "stream",
     "text": [
      "real\n"
     ]
    },
    {
     "name": "stderr",
     "output_type": "stream",
     "text": [
      "100%|██████████| 400/400 [01:26<00:00,  4.63it/s]"
     ]
    },
    {
     "name": "stdout",
     "output_type": "stream",
     "text": [
      "tp: 6\n",
      "fp: 0\n",
      "fn: 1\n",
      "tn: 0\n"
     ]
    },
    {
     "name": "stderr",
     "output_type": "stream",
     "text": [
      "\n"
     ]
    }
   ],
   "source": [
    "tp = 0\n",
    "tn = 0\n",
    "fn = 0\n",
    "fp = 0\n",
    "\n",
    "# dir = fake / real \n",
    "\n",
    "labels = os.listdir(dataset)\n",
    "for label in labels:\n",
    "    print(label)\n",
    "    label_dir = os.path.join(dataset, label)\n",
    "    images = os.listdir(label_dir)\n",
    "    for image in tqdm(images):\n",
    "        img_path = os.path.join(label_dir, image)\n",
    "        try:\n",
    "            prediction = predict_two_model(img_path)\n",
    "        except: continue\n",
    "        # print(time.time() - tic)\n",
    "        \n",
    "        if prediction == \"fake\" and label == 'fake':\n",
    "            tp += 1\n",
    "        elif prediction == 'real' and label == 'fake':\n",
    "            fn += 1\n",
    "        elif prediction == 'fake' and label == 'real':\n",
    "            fp += 1\n",
    "        elif prediction == 'real' and label == 'real':\n",
    "            tn += 1\n",
    "            \n",
    "print(\"tp:\", tp)\n",
    "print(\"fp:\", fp)\n",
    "print(\"fn:\", fn)\n",
    "print(\"tn:\", tn)"
   ]
  },
  {
   "cell_type": "code",
   "execution_count": null,
   "metadata": {},
   "outputs": [],
   "source": [
    "fake\n",
    "100%|██████████| 571/571 [01:54<00:00,  4.98it/s]\n",
    "real\n",
    "100%|██████████| 400/400 [01:23<00:00,  4.79it/s]\n",
    "tp: 389\n",
    "fp: 143\n",
    "fn: 182\n",
    "tn: 257"
   ]
  }
 ],
 "metadata": {
  "kernelspec": {
   "display_name": "silent-fas",
   "language": "python",
   "name": "python3"
  },
  "language_info": {
   "codemirror_mode": {
    "name": "ipython",
    "version": 3
   },
   "file_extension": ".py",
   "mimetype": "text/x-python",
   "name": "python",
   "nbconvert_exporter": "python",
   "pygments_lexer": "ipython3",
   "version": "3.10.13"
  }
 },
 "nbformat": 4,
 "nbformat_minor": 2
}
